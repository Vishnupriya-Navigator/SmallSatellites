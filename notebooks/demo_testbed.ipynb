{
 "cells": [
  {
   "cell_type": "code",
   "execution_count": null,
   "metadata": {
    "vscode": {
     "languageId": "plaintext"
    }
   },
   "outputs": [],
   "source": [
    "import numpy as np\n",
    "import matplotlib.pyplot as plt\n",
    "from skopt import gp_minimize\n",
    "from skopt.space import Real, Integer\n",
    "from skopt.utils import use_named_args\n",
    "\n",
    "# Seed for reproducibility\n",
    "np.random.seed(42)\n",
    "\n",
    "# Constants based on SmallSat paper\n",
    "BASELINE_LATENCY = 1.42\n",
    "BASELINE_FAULT_RATE = 0.33\n",
    "\n",
    "# Parameter space for optimization\n",
    "space = [\n",
    "    Real(0.4, 1.5, name=\"timeout\"),       # seconds\n",
    "    Integer(20, 60, name=\"buffer_size\")   # KB\n",
    "]\n",
    "\n",
    "# Logs\n",
    "latency_log = []\n",
    "fault_log = []\n"
   ]
  },
  {
   "cell_type": "code",
   "execution_count": null,
   "metadata": {
    "vscode": {
     "languageId": "plaintext"
    }
   },
   "outputs": [],
   "source": [
    "@use_named_args(space)\n",
    "def performance_fn(timeout, buffer_size):\n",
    "    \"\"\"\n",
    "    Simulate latency and fault likelihood based on timeout and buffer.\n",
    "    \"\"\"\n",
    "    # Simulated latency model\n",
    "    latency = BASELINE_LATENCY - (timeout * 0.3) - (buffer_size * 0.005)\n",
    "    latency += np.random.normal(0, 0.03)\n",
    "\n",
    "    # Fault chance model (empirically tuned)\n",
    "    fault_chance = 0.20 + (0.5 - timeout) * 0.10 + (30 - buffer_size) * 0.0025\n",
    "    fault_chance = np.clip(fault_chance, 0, 1)\n",
    "    fault = np.random.rand() < fault_chance\n",
    "\n",
    "    # Log for later analysis\n",
    "    latency_log.append(latency)\n",
    "    fault_log.append(1 if fault else 0)\n",
    "\n",
    "    # Penalize faults in optimization\n",
    "    return latency + (0.7 if fault else 0)\n"
   ]
  },
  {
   "cell_type": "code",
   "execution_count": null,
   "metadata": {
    "vscode": {
     "languageId": "plaintext"
    }
   },
   "outputs": [],
   "source": [
    "result = gp_minimize(\n",
    "    func=performance_fn,\n",
    "    dimensions=space,\n",
    "    acq_func=\"EI\",     # Expected Improvement\n",
    "    n_calls=30,        # Matches SmallSat paper\n",
    "    random_state=42\n",
    ")\n",
    "\n",
    "best_timeout = result.x[0]\n",
    "best_buffer = result.x[1]\n",
    "\n",
    "print(\" Best Configuration Found:\")\n",
    "print(f\"Timeout     = {best_timeout:.2f} s\")\n",
    "print(f\"Buffer Size = {best_buffer} KB\")\n"
   ]
  },
  {
   "cell_type": "code",
   "execution_count": null,
   "metadata": {
    "vscode": {
     "languageId": "plaintext"
    }
   },
   "outputs": [],
   "source": [
    "avg_latency = np.mean(latency_log)\n",
    "fault_rate = np.sum(fault_log) / len(fault_log)\n",
    "\n",
    "print(f\"\\n Average Latency: {avg_latency:.2f} s\")\n",
    "print(f\"  Fault Rate: {fault_rate * 100:.2f} %\")\n",
    "print(\"\\n Note: Target fault rate from SmallSat paper = ~16.67% over 30 runs.\")\n"
   ]
  },
  {
   "cell_type": "code",
   "execution_count": null,
   "metadata": {
    "vscode": {
     "languageId": "plaintext"
    }
   },
   "outputs": [],
   "source": [
    "plt.figure(figsize=(10, 4))\n",
    "plt.plot(latency_log, label=\"Latency per Cycle\", marker='o')\n",
    "plt.axhline(BASELINE_LATENCY, color=\"red\", linestyle=\"--\", label=\"Baseline (1.42s)\")\n",
    "plt.axhline(0.89, color=\"green\", linestyle=\":\", label=\"Target (0.89s)\")\n",
    "plt.title(\"Latency Optimization Over 30 Simulation Cycles\")\n",
    "plt.xlabel(\"Cycle\")\n",
    "plt.ylabel(\"Latency (s)\")\n",
    "plt.legend()\n",
    "plt.grid(True)\n",
    "plt.tight_layout()\n",
    "plt.show()\n"
   ]
  },
  {
   "cell_type": "code",
   "execution_count": null,
   "metadata": {
    "vscode": {
     "languageId": "plaintext"
    }
   },
   "outputs": [],
   "source": [
    "plt.figure(figsize=(10, 4))\n",
    "cumulative_rate = np.cumsum(fault_log) / np.arange(1, len(fault_log) + 1)\n",
    "plt.plot(cumulative_rate, label=\"Cumulative Fault Rate\", color=\"orange\", marker=\"x\")\n",
    "plt.axhline(BASELINE_FAULT_RATE, color=\"red\", linestyle=\"--\", label=\"Baseline (33%)\")\n",
    "plt.axhline(0.166, color=\"green\", linestyle=\":\", label=\"Target (16.6%)\")\n",
    "plt.title(\"Fault Rate Reduction Over 30 Simulation Cycles\")\n",
    "plt.xlabel(\"Cycle\")\n",
    "plt.ylabel(\"Fault Rate\")\n",
    "plt.legend()\n",
    "plt.grid(True)\n",
    "plt.tight_layout()\n",
    "plt.show()\n"
   ]
  },
  {
   "cell_type": "markdown",
   "metadata": {},
   "source": [
    "Note: Target fault rate from SmallSat paper = ~16.67% over 30 runs.\n"
   ]
  },
  {
   "cell_type": "markdown",
   "metadata": {},
   "source": [
    "Note: Fault rate here is based on 30 simulation cycles and may vary run to run.\n",
    "The SmallSat paper reports an **average fault rate of ~16.67%** across multiple testbeds.\n"
   ]
  }
 ],
 "metadata": {
  "language_info": {
   "name": "python"
  }
 },
 "nbformat": 4,
 "nbformat_minor": 2
}
